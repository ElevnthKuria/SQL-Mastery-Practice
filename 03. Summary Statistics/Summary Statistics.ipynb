{
 "cells": [
  {
   "cell_type": "markdown",
   "id": "6174bc3a",
   "metadata": {},
   "source": [
    "# <span style=\"color:#E600E6\">SUMMARY STATISTICS</span>\n",
    "* In this session we'll calculate summary statistics for our data."
   ]
  },
  {
   "cell_type": "markdown",
   "id": "8d659880",
   "metadata": {},
   "source": [
    "## <span style=\"color:#E600E6\">Aggregate Functions</span>\n",
    "\n",
    "* A function takes in input and produces the output of the function\n",
    "> <span style=\"color:green\">Example: if you are asked to get the **Major** with the **highest Unemployment Rate**. How would you calculate it?</span>\n",
    "* This is where SQL aggregate functions come in, they are applied over columns of values and return a single value."
   ]
  },
  {
   "cell_type": "code",
   "execution_count": null,
   "id": "b995f3c7",
   "metadata": {},
   "outputs": [],
   "source": [
    "%%capture\n",
    "%load_ext sql\n",
    "%sql sqlite:///Jobs.db"
   ]
  },
  {
   "cell_type": "code",
   "execution_count": 3,
   "id": "7d924bac",
   "metadata": {},
   "outputs": [
    {
     "name": "stdout",
     "output_type": "stream",
     "text": [
      " * sqlite:///Jobs.db\n",
      "Done.\n"
     ]
    },
    {
     "data": {
      "text/html": [
       "<table>\n",
       "    <thead>\n",
       "        <tr>\n",
       "            <th>index</th>\n",
       "            <th>Rank</th>\n",
       "            <th>Major_code</th>\n",
       "            <th>Major</th>\n",
       "            <th>Major_category</th>\n",
       "            <th>Total</th>\n",
       "            <th>Sample_size</th>\n",
       "            <th>Men</th>\n",
       "            <th>Women</th>\n",
       "            <th>ShareWomen</th>\n",
       "            <th>Employed</th>\n",
       "            <th>Full_time</th>\n",
       "            <th>Part_time</th>\n",
       "            <th>Full_time_year_round</th>\n",
       "            <th>Unemployed</th>\n",
       "            <th>Unemployment_rate</th>\n",
       "            <th>Median</th>\n",
       "            <th>P25th</th>\n",
       "            <th>P75th</th>\n",
       "            <th>College_jobs</th>\n",
       "            <th>Non_college_jobs</th>\n",
       "            <th>Low_wage_jobs</th>\n",
       "        </tr>\n",
       "    </thead>\n",
       "    <tbody>\n",
       "        <tr>\n",
       "            <td>0</td>\n",
       "            <td>1</td>\n",
       "            <td>2419</td>\n",
       "            <td>PETROLEUM ENGINEERING</td>\n",
       "            <td>Engineering</td>\n",
       "            <td>2339</td>\n",
       "            <td>36</td>\n",
       "            <td>2057</td>\n",
       "            <td>282</td>\n",
       "            <td>0.120564344</td>\n",
       "            <td>1976</td>\n",
       "            <td>1849</td>\n",
       "            <td>270</td>\n",
       "            <td>1207</td>\n",
       "            <td>37</td>\n",
       "            <td>0.018380527</td>\n",
       "            <td>110000</td>\n",
       "            <td>95000</td>\n",
       "            <td>125000</td>\n",
       "            <td>1534</td>\n",
       "            <td>364</td>\n",
       "            <td>193</td>\n",
       "        </tr>\n",
       "        <tr>\n",
       "            <td>1</td>\n",
       "            <td>2</td>\n",
       "            <td>2416</td>\n",
       "            <td>MINING AND MINERAL ENGINEERING</td>\n",
       "            <td>Engineering</td>\n",
       "            <td>756</td>\n",
       "            <td>7</td>\n",
       "            <td>679</td>\n",
       "            <td>77</td>\n",
       "            <td>0.10185185199999999</td>\n",
       "            <td>640</td>\n",
       "            <td>556</td>\n",
       "            <td>170</td>\n",
       "            <td>388</td>\n",
       "            <td>85</td>\n",
       "            <td>0.117241379</td>\n",
       "            <td>75000</td>\n",
       "            <td>55000</td>\n",
       "            <td>90000</td>\n",
       "            <td>350</td>\n",
       "            <td>257</td>\n",
       "            <td>50</td>\n",
       "        </tr>\n",
       "        <tr>\n",
       "            <td>2</td>\n",
       "            <td>3</td>\n",
       "            <td>2415</td>\n",
       "            <td>METALLURGICAL ENGINEERING</td>\n",
       "            <td>Engineering</td>\n",
       "            <td>856</td>\n",
       "            <td>3</td>\n",
       "            <td>725</td>\n",
       "            <td>131</td>\n",
       "            <td>0.153037383</td>\n",
       "            <td>648</td>\n",
       "            <td>558</td>\n",
       "            <td>133</td>\n",
       "            <td>340</td>\n",
       "            <td>16</td>\n",
       "            <td>0.024096386</td>\n",
       "            <td>73000</td>\n",
       "            <td>50000</td>\n",
       "            <td>105000</td>\n",
       "            <td>456</td>\n",
       "            <td>176</td>\n",
       "            <td>0</td>\n",
       "        </tr>\n",
       "        <tr>\n",
       "            <td>3</td>\n",
       "            <td>4</td>\n",
       "            <td>2417</td>\n",
       "            <td>NAVAL ARCHITECTURE AND MARINE ENGINEERING</td>\n",
       "            <td>Engineering</td>\n",
       "            <td>1258</td>\n",
       "            <td>16</td>\n",
       "            <td>1123</td>\n",
       "            <td>135</td>\n",
       "            <td>0.107313196</td>\n",
       "            <td>758</td>\n",
       "            <td>1069</td>\n",
       "            <td>150</td>\n",
       "            <td>692</td>\n",
       "            <td>40</td>\n",
       "            <td>0.050125313</td>\n",
       "            <td>70000</td>\n",
       "            <td>43000</td>\n",
       "            <td>80000</td>\n",
       "            <td>529</td>\n",
       "            <td>102</td>\n",
       "            <td>0</td>\n",
       "        </tr>\n",
       "        <tr>\n",
       "            <td>4</td>\n",
       "            <td>5</td>\n",
       "            <td>2405</td>\n",
       "            <td>CHEMICAL ENGINEERING</td>\n",
       "            <td>Engineering</td>\n",
       "            <td>32260</td>\n",
       "            <td>289</td>\n",
       "            <td>21239</td>\n",
       "            <td>11021</td>\n",
       "            <td>0.341630502</td>\n",
       "            <td>25694</td>\n",
       "            <td>23170</td>\n",
       "            <td>5180</td>\n",
       "            <td>16697</td>\n",
       "            <td>1672</td>\n",
       "            <td>0.061097712</td>\n",
       "            <td>65000</td>\n",
       "            <td>50000</td>\n",
       "            <td>75000</td>\n",
       "            <td>18314</td>\n",
       "            <td>4440</td>\n",
       "            <td>972</td>\n",
       "        </tr>\n",
       "    </tbody>\n",
       "</table>"
      ],
      "text/plain": [
       "[(0, 1, 2419, 'PETROLEUM ENGINEERING', 'Engineering', 2339, 36, 2057, 282, 0.120564344, 1976, 1849, 270, 1207, 37, 0.018380527, 110000, 95000, 125000, 1534, 364, 193),\n",
       " (1, 2, 2416, 'MINING AND MINERAL ENGINEERING', 'Engineering', 756, 7, 679, 77, 0.10185185199999999, 640, 556, 170, 388, 85, 0.117241379, 75000, 55000, 90000, 350, 257, 50),\n",
       " (2, 3, 2415, 'METALLURGICAL ENGINEERING', 'Engineering', 856, 3, 725, 131, 0.153037383, 648, 558, 133, 340, 16, 0.024096386, 73000, 50000, 105000, 456, 176, 0),\n",
       " (3, 4, 2417, 'NAVAL ARCHITECTURE AND MARINE ENGINEERING', 'Engineering', 1258, 16, 1123, 135, 0.107313196, 758, 1069, 150, 692, 40, 0.050125313, 70000, 43000, 80000, 529, 102, 0),\n",
       " (4, 5, 2405, 'CHEMICAL ENGINEERING', 'Engineering', 32260, 289, 21239, 11021, 0.341630502, 25694, 23170, 5180, 16697, 1672, 0.061097712, 65000, 50000, 75000, 18314, 4440, 972)]"
      ]
     },
     "execution_count": 3,
     "metadata": {},
     "output_type": "execute_result"
    }
   ],
   "source": [
    "%%sql\n",
    "SELECT *\n",
    "FROM recent_grads\n",
    "LIMIT 5;"
   ]
  },
  {
   "cell_type": "markdown",
   "id": "3b73fb47",
   "metadata": {},
   "source": [
    "### <span style=\"color:#E600E6\">MAX</span>\n",
    "The max aggregate function returns the maximum value in a table field."
   ]
  },
  {
   "cell_type": "code",
   "execution_count": 5,
   "id": "999014ef",
   "metadata": {},
   "outputs": [
    {
     "name": "stdout",
     "output_type": "stream",
     "text": [
      " * sqlite:///Jobs.db\n",
      "Done.\n"
     ]
    },
    {
     "data": {
      "text/html": [
       "<table>\n",
       "    <thead>\n",
       "        <tr>\n",
       "            <th>Major</th>\n",
       "            <th>MAX(Unemployment_rate)</th>\n",
       "        </tr>\n",
       "    </thead>\n",
       "    <tbody>\n",
       "        <tr>\n",
       "            <td>NUCLEAR ENGINEERING</td>\n",
       "            <td>0.177226407</td>\n",
       "        </tr>\n",
       "    </tbody>\n",
       "</table>"
      ],
      "text/plain": [
       "[('NUCLEAR ENGINEERING', 0.177226407)]"
      ]
     },
     "execution_count": 5,
     "metadata": {},
     "output_type": "execute_result"
    }
   ],
   "source": [
    "%%sql\n",
    "SELECT Major, MAX(Unemployment_rate)\n",
    "FROM recent_grads;"
   ]
  },
  {
   "cell_type": "code",
   "execution_count": null,
   "id": "82293456",
   "metadata": {},
   "outputs": [],
   "source": []
  },
  {
   "cell_type": "markdown",
   "id": "39d7482b",
   "metadata": {},
   "source": [
    "### <span style=\"color:#E600E6\">MIN</span>\n",
    "Returns the minimum value in a field"
   ]
  },
  {
   "cell_type": "code",
   "execution_count": 7,
   "id": "6191c2f9",
   "metadata": {},
   "outputs": [
    {
     "name": "stdout",
     "output_type": "stream",
     "text": [
      " * sqlite:///Jobs.db\n",
      "Done.\n"
     ]
    },
    {
     "data": {
      "text/html": [
       "<table>\n",
       "    <thead>\n",
       "        <tr>\n",
       "            <th>Major</th>\n",
       "            <th>MIN(Unemployment_rate)</th>\n",
       "        </tr>\n",
       "    </thead>\n",
       "    <tbody>\n",
       "        <tr>\n",
       "            <td>MATHEMATICS AND COMPUTER SCIENCE</td>\n",
       "            <td>0.0</td>\n",
       "        </tr>\n",
       "    </tbody>\n",
       "</table>"
      ],
      "text/plain": [
       "[('MATHEMATICS AND COMPUTER SCIENCE', 0.0)]"
      ]
     },
     "execution_count": 7,
     "metadata": {},
     "output_type": "execute_result"
    }
   ],
   "source": [
    "%%sql\n",
    "SELECT Major, MIN(Unemployment_rate)\n",
    "FROM recent_grads;"
   ]
  },
  {
   "cell_type": "code",
   "execution_count": null,
   "id": "590b0844",
   "metadata": {},
   "outputs": [],
   "source": []
  },
  {
   "cell_type": "markdown",
   "id": "50a6c494",
   "metadata": {},
   "source": [
    "### <span style=\"color:#E600E6\">SUM</span>\n",
    "Sums the values in a column.\n",
    "> <span style=\"color:green\">Example: Total number of unemployed in the Engineering major category.</span>"
   ]
  },
  {
   "cell_type": "code",
   "execution_count": 11,
   "id": "ead7b094",
   "metadata": {},
   "outputs": [
    {
     "name": "stdout",
     "output_type": "stream",
     "text": [
      " * sqlite:///Jobs.db\n",
      "Done.\n"
     ]
    },
    {
     "data": {
      "text/html": [
       "<table>\n",
       "    <thead>\n",
       "        <tr>\n",
       "            <th>SUM(Unemployed)</th>\n",
       "        </tr>\n",
       "    </thead>\n",
       "    <tbody>\n",
       "        <tr>\n",
       "            <td>29817</td>\n",
       "        </tr>\n",
       "    </tbody>\n",
       "</table>"
      ],
      "text/plain": [
       "[(29817,)]"
      ]
     },
     "execution_count": 11,
     "metadata": {},
     "output_type": "execute_result"
    }
   ],
   "source": [
    "%%sql\n",
    "SELECT SUM(Unemployed)\n",
    "FROM recent_grads\n",
    "WHERE Major_category == \"Engineering\";"
   ]
  },
  {
   "cell_type": "code",
   "execution_count": null,
   "id": "c0f59641",
   "metadata": {},
   "outputs": [],
   "source": []
  },
  {
   "cell_type": "markdown",
   "id": "9d59aaa8",
   "metadata": {},
   "source": [
    "### <span style=\"color:#E600E6\">More Aggregate Functions</span>\n",
    "> * **COUNT** - Takes the column name as an argument and counts the number of non-empty values in that column.\n",
    "> * **AVG** - Calculates the average values for a particular column.\n",
    "> * **ROUND** - Takes two arguments , the column name and an integer which represents the number of decimal places and rounds of the values in the column to that number of decimal places.\n",
    "\n",
    "**You can also combine multiple aggregate functions together in a single query.**"
   ]
  },
  {
   "cell_type": "code",
   "execution_count": 15,
   "id": "931c791d",
   "metadata": {},
   "outputs": [
    {
     "name": "stdout",
     "output_type": "stream",
     "text": [
      " * sqlite:///Jobs.db\n",
      "Done.\n"
     ]
    },
    {
     "data": {
      "text/html": [
       "<table>\n",
       "    <thead>\n",
       "        <tr>\n",
       "            <th>AVG(Total)</th>\n",
       "            <th>MIN(Men)</th>\n",
       "            <th>MAX(Women)</th>\n",
       "        </tr>\n",
       "    </thead>\n",
       "    <tbody>\n",
       "        <tr>\n",
       "            <td>39167.71676300578</td>\n",
       "            <td>119</td>\n",
       "            <td>307087</td>\n",
       "        </tr>\n",
       "    </tbody>\n",
       "</table>"
      ],
      "text/plain": [
       "[(39167.71676300578, 119, 307087)]"
      ]
     },
     "execution_count": 15,
     "metadata": {},
     "output_type": "execute_result"
    }
   ],
   "source": [
    "%%sql\n",
    "SELECT AVG(Total), MIN(Men), MAX(Women)\n",
    "FROM recent_grads;"
   ]
  },
  {
   "cell_type": "code",
   "execution_count": null,
   "id": "1eb00d99",
   "metadata": {},
   "outputs": [],
   "source": []
  },
  {
   "cell_type": "markdown",
   "id": "4c03dce7",
   "metadata": {},
   "source": [
    "### <span style=\"color:#E600E6\">Customizing the results with AS</span>\n",
    "* **AS** is a SQL keyword that allows us to rename a column or a table using an alias\n",
    "* The aliases only appear in the Result Table, not in the actual table in the database."
   ]
  },
  {
   "cell_type": "code",
   "execution_count": 12,
   "id": "5b63bd0d",
   "metadata": {},
   "outputs": [
    {
     "name": "stdout",
     "output_type": "stream",
     "text": [
      " * sqlite:///Jobs.db\n",
      "Done.\n"
     ]
    },
    {
     "data": {
      "text/html": [
       "<table>\n",
       "    <thead>\n",
       "        <tr>\n",
       "            <th>Total</th>\n",
       "        </tr>\n",
       "    </thead>\n",
       "    <tbody>\n",
       "        <tr>\n",
       "            <td>29817</td>\n",
       "        </tr>\n",
       "    </tbody>\n",
       "</table>"
      ],
      "text/plain": [
       "[(29817,)]"
      ]
     },
     "execution_count": 12,
     "metadata": {},
     "output_type": "execute_result"
    }
   ],
   "source": [
    "%%sql\n",
    "SELECT SUM(Unemployed) AS Total\n",
    "FROM recent_grads\n",
    "WHERE Major_category == \"Engineering\";"
   ]
  },
  {
   "cell_type": "markdown",
   "id": "562407dd",
   "metadata": {},
   "source": [
    "**We can drop AS entirely and just add the alias name next to the original column**"
   ]
  },
  {
   "cell_type": "code",
   "execution_count": 16,
   "id": "361da9dc",
   "metadata": {},
   "outputs": [
    {
     "name": "stdout",
     "output_type": "stream",
     "text": [
      " * sqlite:///Jobs.db\n",
      "Done.\n"
     ]
    },
    {
     "data": {
      "text/html": [
       "<table>\n",
       "    <thead>\n",
       "        <tr>\n",
       "            <th>Total</th>\n",
       "        </tr>\n",
       "    </thead>\n",
       "    <tbody>\n",
       "        <tr>\n",
       "            <td>29817</td>\n",
       "        </tr>\n",
       "    </tbody>\n",
       "</table>"
      ],
      "text/plain": [
       "[(29817,)]"
      ]
     },
     "execution_count": 16,
     "metadata": {},
     "output_type": "execute_result"
    }
   ],
   "source": [
    "%%sql\n",
    "SELECT SUM(Unemployed) Total\n",
    "FROM recent_grads\n",
    "WHERE Major_category == \"Engineering\";"
   ]
  },
  {
   "cell_type": "code",
   "execution_count": null,
   "id": "48277b92",
   "metadata": {},
   "outputs": [],
   "source": []
  },
  {
   "attachments": {},
   "cell_type": "markdown",
   "id": "bab57834",
   "metadata": {},
   "source": [
    "### <span style=\"color:#E600E6\">Order of Execution</span>\n",
    "* SQL queries are not executed in the same order they are declared in the query statement.\n",
    " >   <span style=\"color:green\">\n",
    "         SELECT *\n",
    "            FROM [some_table]\n",
    "            WHERE [some_condition]\n",
    "            ORDER BY [some_column]\n",
    "         LIMIT [some_limit];\n",
    "     </span>\n",
    "\n",
    "**Here is the order in which the clauses run:**\n",
    "\n",
    "1. FROM\n",
    "2. WHERE\n",
    "3. SELECT\n",
    "4. ORDER BY\n",
    "5. LIMIT\n",
    "\n",
    "Since aggregate functions are part of SELECT, the calculation happens after WHERE acts."
   ]
  },
  {
   "cell_type": "code",
   "execution_count": null,
   "id": "4c469cf2",
   "metadata": {},
   "outputs": [],
   "source": []
  },
  {
   "cell_type": "markdown",
   "id": "720c91ee",
   "metadata": {},
   "source": [
    "### <span style=\"color:#E600E6\">Missing Values</span>\n",
    "* Sometimes, cells in database table, may not have any values.\n",
    "* When that happens, we say that the value is missing or the table has missing values.\n",
    "* **NULL** is an entity in SQL that exists to capture the concept of missing values.\n",
    "* We can use **NULL** with **WHERE** to filter records with missing values."
   ]
  },
  {
   "cell_type": "code",
   "execution_count": 14,
   "id": "57105317",
   "metadata": {},
   "outputs": [
    {
     "name": "stdout",
     "output_type": "stream",
     "text": [
      " * sqlite:///Jobs.db\n",
      "Done.\n"
     ]
    },
    {
     "data": {
      "text/html": [
       "<table>\n",
       "    <thead>\n",
       "        <tr>\n",
       "            <th>index</th>\n",
       "            <th>Rank</th>\n",
       "            <th>Major_code</th>\n",
       "            <th>Major</th>\n",
       "            <th>Major_category</th>\n",
       "            <th>Total</th>\n",
       "            <th>Sample_size</th>\n",
       "            <th>Men</th>\n",
       "            <th>Women</th>\n",
       "            <th>ShareWomen</th>\n",
       "            <th>Employed</th>\n",
       "            <th>Full_time</th>\n",
       "            <th>Part_time</th>\n",
       "            <th>Full_time_year_round</th>\n",
       "            <th>Unemployed</th>\n",
       "            <th>Unemployment_rate</th>\n",
       "            <th>Median</th>\n",
       "            <th>P25th</th>\n",
       "            <th>P75th</th>\n",
       "            <th>College_jobs</th>\n",
       "            <th>Non_college_jobs</th>\n",
       "            <th>Low_wage_jobs</th>\n",
       "        </tr>\n",
       "    </thead>\n",
       "    <tbody>\n",
       "        <tr>\n",
       "            <td>73</td>\n",
       "            <td>74</td>\n",
       "            <td>3801</td>\n",
       "            <td>MILITARY TECHNOLOGIES</td>\n",
       "            <td>Industrial Arts &amp; Consumer Services</td>\n",
       "            <td>124</td>\n",
       "            <td>4</td>\n",
       "            <td>1756</td>\n",
       "            <td>1323</td>\n",
       "            <td>0.429684963</td>\n",
       "            <td>0</td>\n",
       "            <td>111</td>\n",
       "            <td>0</td>\n",
       "            <td>111</td>\n",
       "            <td>0</td>\n",
       "            <td>None</td>\n",
       "            <td>40000</td>\n",
       "            <td>40000</td>\n",
       "            <td>40000</td>\n",
       "            <td>0</td>\n",
       "            <td>0</td>\n",
       "            <td>0</td>\n",
       "        </tr>\n",
       "    </tbody>\n",
       "</table>"
      ],
      "text/plain": [
       "[(73, 74, 3801, 'MILITARY TECHNOLOGIES', 'Industrial Arts & Consumer Services', 124, 4, 1756, 1323, 0.429684963, 0, 111, 0, 111, 0, None, 40000, 40000, 40000, 0, 0, 0)]"
      ]
     },
     "execution_count": 14,
     "metadata": {},
     "output_type": "execute_result"
    }
   ],
   "source": [
    "%%sql\n",
    "SELECT *\n",
    "FROM recent_grads\n",
    "WHERE Unemployment_rate IS NULL;"
   ]
  },
  {
   "cell_type": "code",
   "execution_count": null,
   "id": "17df36d9",
   "metadata": {},
   "outputs": [],
   "source": []
  },
  {
   "cell_type": "markdown",
   "id": "822b44f5",
   "metadata": {},
   "source": [
    "### <span style=\"color:#E600E6\">Performing Arithmetic in SQL</span>\n",
    "* SQL supports the standard arithmetic operators: *, +, -, and / that we can use to perform arithmetic operations on table columns."
   ]
  },
  {
   "cell_type": "code",
   "execution_count": 17,
   "id": "b11db9e5",
   "metadata": {},
   "outputs": [
    {
     "name": "stdout",
     "output_type": "stream",
     "text": [
      " * sqlite:///Jobs.db\n",
      "Done.\n"
     ]
    },
    {
     "data": {
      "text/html": [
       "<table>\n",
       "    <thead>\n",
       "        <tr>\n",
       "            <th>percent_female</th>\n",
       "        </tr>\n",
       "    </thead>\n",
       "    <tbody>\n",
       "        <tr>\n",
       "            <td>12.0564344</td>\n",
       "        </tr>\n",
       "        <tr>\n",
       "            <td>10.1851852</td>\n",
       "        </tr>\n",
       "        <tr>\n",
       "            <td>15.3037383</td>\n",
       "        </tr>\n",
       "        <tr>\n",
       "            <td>10.731319599999999</td>\n",
       "        </tr>\n",
       "        <tr>\n",
       "            <td>34.1630502</td>\n",
       "        </tr>\n",
       "        <tr>\n",
       "            <td>14.4966965</td>\n",
       "        </tr>\n",
       "        <tr>\n",
       "            <td>53.571428600000004</td>\n",
       "        </tr>\n",
       "        <tr>\n",
       "            <td>44.135557299999995</td>\n",
       "        </tr>\n",
       "        <tr>\n",
       "            <td>13.979280099999999</td>\n",
       "        </tr>\n",
       "        <tr>\n",
       "            <td>43.7846874</td>\n",
       "        </tr>\n",
       "    </tbody>\n",
       "</table>"
      ],
      "text/plain": [
       "[(12.0564344,),\n",
       " (10.1851852,),\n",
       " (15.3037383,),\n",
       " (10.731319599999999,),\n",
       " (34.1630502,),\n",
       " (14.4966965,),\n",
       " (53.571428600000004,),\n",
       " (44.135557299999995,),\n",
       " (13.979280099999999,),\n",
       " (43.7846874,)]"
      ]
     },
     "execution_count": 17,
     "metadata": {},
     "output_type": "execute_result"
    }
   ],
   "source": [
    "%%sql\n",
    "SELECT ShareWomen * 100 percent_female \n",
    "  FROM recent_grads \n",
    "LIMIT 10;"
   ]
  },
  {
   "cell_type": "markdown",
   "id": "31d5d598",
   "metadata": {},
   "source": [
    "# END"
   ]
  }
 ],
 "metadata": {
  "kernelspec": {
   "display_name": "Python 3 (ipykernel)",
   "language": "python",
   "name": "python3"
  },
  "language_info": {
   "codemirror_mode": {
    "name": "ipython",
    "version": 3
   },
   "file_extension": ".py",
   "mimetype": "text/x-python",
   "name": "python",
   "nbconvert_exporter": "python",
   "pygments_lexer": "ipython3",
   "version": "3.9.13"
  }
 },
 "nbformat": 4,
 "nbformat_minor": 5
}
